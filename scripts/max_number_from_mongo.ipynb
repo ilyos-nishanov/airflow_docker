{
 "cells": [
  {
   "cell_type": "code",
   "execution_count": 1,
   "metadata": {},
   "outputs": [],
   "source": [
    "from connections import get_mongo_client"
   ]
  },
  {
   "cell_type": "code",
   "execution_count": 2,
   "metadata": {},
   "outputs": [],
   "source": [
    "my_path = 'data.katm_333.return.data.general_cbr.loans_overview'"
   ]
  },
  {
   "cell_type": "code",
   "execution_count": 3,
   "metadata": {},
   "outputs": [],
   "source": [
    "client = client = get_mongo_client()\n",
    "db = client['task']\n",
    "task_collection = db['task']\n",
    "query = {\n",
    "    my_path: {'$exists': True}\n",
    "    # ,'number': {'$eq': 7090166}\n",
    "    # ,'number': {'$gt': max_num}\n",
    "    # ,'number': {'$gt': 5000000, '$lt': 5001000}\n",
    "    # ,'number': {'$in': numbers}\n",
    "    \n",
    "}\n",
    "projection = {\n",
    "    'number': 1,\n",
    "    my_path: 1\n",
    "}"
   ]
  },
  {
   "cell_type": "code",
   "execution_count": 4,
   "metadata": {},
   "outputs": [],
   "source": [
    "max_number_doc = task_collection.find(query, {'number': 1}).sort('number', -1).limit(1)"
   ]
  },
  {
   "cell_type": "code",
   "execution_count": 6,
   "metadata": {},
   "outputs": [
    {
     "name": "stdout",
     "output_type": "stream",
     "text": [
      "Max number: 8644119\n"
     ]
    }
   ],
   "source": [
    "max_number = None\n",
    "for doc in max_number_doc:\n",
    "    max_number = doc.get('number')\n",
    "\n",
    "print(f\"Max number: {max_number}\")"
   ]
  }
 ],
 "metadata": {
  "kernelspec": {
   "display_name": "venv",
   "language": "python",
   "name": "python3"
  },
  "language_info": {
   "codemirror_mode": {
    "name": "ipython",
    "version": 3
   },
   "file_extension": ".py",
   "mimetype": "text/x-python",
   "name": "python",
   "nbconvert_exporter": "python",
   "pygments_lexer": "ipython3",
   "version": "3.13.0"
  }
 },
 "nbformat": 4,
 "nbformat_minor": 2
}
