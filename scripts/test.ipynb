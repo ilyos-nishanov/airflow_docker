{
 "cells": [
  {
   "cell_type": "code",
   "execution_count": 1,
   "metadata": {},
   "outputs": [],
   "source": [
    "import json\n",
    "import pandas as pd\n",
    "from time import time\n",
    "from connections import get_mongo_client\n",
    "from my_utils import insert_into_mssql, load_my_columns, \\\n",
    "    get_numbers, map_dff_to_my_columns, max_number_find"
   ]
  },
  {
   "cell_type": "code",
   "execution_count": 3,
   "metadata": {},
   "outputs": [],
   "source": [
    "CONFIG_FILE = \"mongodb_to_sql_config.json\""
   ]
  },
  {
   "cell_type": "code",
   "execution_count": 5,
   "metadata": {},
   "outputs": [],
   "source": [
    "with open(CONFIG_FILE, \"r\") as config_file:\n",
    "        config = json.load(config_file)"
   ]
  },
  {
   "cell_type": "code",
   "execution_count": 6,
   "metadata": {},
   "outputs": [],
   "source": [
    "client = get_mongo_client()\n",
    "db = client['task']\n",
    "task_collection = db['task']"
   ]
  },
  {
   "cell_type": "code",
   "execution_count": 7,
   "metadata": {},
   "outputs": [
    {
     "name": "stdout",
     "output_type": "stream",
     "text": [
      "Processing entry: Contingent Liabilities\n",
      "Processing entry: Contracts\n",
      "Processing entry: Claims WO Contracts\n",
      "Processing entry: Client\n",
      "Processing entry: Credit requests\n",
      "Processing entry: Dynamics of Scoring\n",
      "Processing entry: Scoring\n",
      "Processing entry: Open Contracts\n",
      "Processing entry: Open Contracts\n",
      "Processing entry: Overview\n",
      "Processing entry: Phones\n"
     ]
    }
   ],
   "source": [
    "for entry in config:\n",
    "    print(f\"Processing entry: {entry['name']}\")\n",
    "    nums_table = entry['nums_table']\n",
    "    write_to_table = entry[\"write_table\"]\n",
    "    columns_file = entry[\"columns_file\"]\n",
    "    query_path = entry[\"query_path\"]\n",
    "    projection_path = entry[\"projection_path\"]"
   ]
  },
  {
   "cell_type": "code",
   "execution_count": 12,
   "metadata": {},
   "outputs": [],
   "source": [
    "columns = load_my_columns(columns_file)\n",
    "max_num = max_number_find(nums_table)"
   ]
  },
  {
   "cell_type": "code",
   "execution_count": 13,
   "metadata": {},
   "outputs": [],
   "source": [
    "query = {\n",
    "        query_path: {'$exists': True},\n",
    "        'number': {'$gt': max_num}\n",
    "    }\n",
    "projection = {\n",
    "        'number': 1,\n",
    "        projection_path: 1\n",
    "    }"
   ]
  },
  {
   "cell_type": "code",
   "execution_count": 15,
   "metadata": {},
   "outputs": [],
   "source": [
    "docs = task_collection.find(query, projection)"
   ]
  },
  {
   "cell_type": "code",
   "execution_count": 16,
   "metadata": {},
   "outputs": [
    {
     "data": {
      "text/plain": [
       "'bronze.katm_077_phones_test'"
      ]
     },
     "execution_count": 16,
     "metadata": {},
     "output_type": "execute_result"
    }
   ],
   "source": [
    "write_to_table"
   ]
  },
  {
   "cell_type": "code",
   "execution_count": 17,
   "metadata": {},
   "outputs": [],
   "source": [
    "for doc in docs:\n",
    "    rows = []\n",
    "    _id = str(doc.get('_id'))\n",
    "    number = doc.get('number')\n",
    "    fields = doc.get('data', {}).get(query_path, [])\n",
    "    if isinstance(fields, dict):\n",
    "        fields = [fields]\n",
    "    elif fields is None:\n",
    "        fields = []\n",
    "\n",
    "    for field in fields:\n",
    "        row = {'_id': _id, 'number': number, **field}\n",
    "        rows.append(row)\n",
    "\n",
    "    if rows:\n",
    "        df = pd.DataFrame(rows)\n",
    "        final_df = map_dff_to_my_columns(df, columns)\n",
    "        # insert_into_mssql(final_df, write_to_table)"
   ]
  },
  {
   "cell_type": "code",
   "execution_count": 24,
   "metadata": {},
   "outputs": [
    {
     "data": {
      "text/plain": [
       "{'_id': ObjectId('6789eae0d94a33b38e16712b'),\n",
       " 'number': 8590728,\n",
       " 'data': {'katm_077': {'return': {'data': {'client': {'phones': {'phone': [{'phone_number': '9982549656',\n",
       "         'phone_number_change': '2024-01-08'},\n",
       "        {'phone_number': '998972549656',\n",
       "         'phone_number_change': '2021-07-06'}]}}}}}}}"
      ]
     },
     "execution_count": 24,
     "metadata": {},
     "output_type": "execute_result"
    }
   ],
   "source": [
    "doc"
   ]
  },
  {
   "cell_type": "code",
   "execution_count": 23,
   "metadata": {},
   "outputs": [],
   "source": [
    "def resolve_nested_field(data, path):\n",
    "    keys = path.split('.')\n",
    "    for key in keys:\n",
    "        if isinstance(data, dict):\n",
    "            data = data.get(key, {})\n",
    "        else:\n",
    "            return None  # Path does not exist\n",
    "    return data"
   ]
  },
  {
   "cell_type": "code",
   "execution_count": 25,
   "metadata": {},
   "outputs": [
    {
     "data": {
      "text/plain": [
       "[{'phone_number': '9982549656', 'phone_number_change': '2024-01-08'},\n",
       " {'phone_number': '998972549656', 'phone_number_change': '2021-07-06'}]"
      ]
     },
     "execution_count": 25,
     "metadata": {},
     "output_type": "execute_result"
    }
   ],
   "source": [
    "resolve_nested_field(doc, query_path)"
   ]
  },
  {
   "cell_type": "code",
   "execution_count": 28,
   "metadata": {},
   "outputs": [],
   "source": [
    "fields = (doc.get('data', {})\n",
    "                    .get('katm_077', {})\n",
    "                    .get('return', {})\n",
    "                    .get('data', {})\n",
    "                    .get('client', {})\n",
    "                    .get('phones', {})\n",
    "                    .get('phone', [])\n",
    ")"
   ]
  },
  {
   "cell_type": "code",
   "execution_count": 29,
   "metadata": {},
   "outputs": [
    {
     "data": {
      "text/plain": [
       "[{'phone_number': '9982549656', 'phone_number_change': '2024-01-08'},\n",
       " {'phone_number': '998972549656', 'phone_number_change': '2021-07-06'}]"
      ]
     },
     "execution_count": 29,
     "metadata": {},
     "output_type": "execute_result"
    }
   ],
   "source": [
    "fields"
   ]
  }
 ],
 "metadata": {
  "kernelspec": {
   "display_name": "venv",
   "language": "python",
   "name": "python3"
  },
  "language_info": {
   "codemirror_mode": {
    "name": "ipython",
    "version": 3
   },
   "file_extension": ".py",
   "mimetype": "text/x-python",
   "name": "python",
   "nbconvert_exporter": "python",
   "pygments_lexer": "ipython3",
   "version": "3.13.0"
  }
 },
 "nbformat": 4,
 "nbformat_minor": 2
}
