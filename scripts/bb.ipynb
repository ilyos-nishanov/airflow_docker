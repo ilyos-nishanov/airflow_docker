{
 "cells": [
  {
   "cell_type": "code",
   "execution_count": 3,
   "metadata": {},
   "outputs": [],
   "source": [
    "import json\n",
    "import pandas as pd\n",
    "from time import time\n",
    "from connections import get_mongo_client\n",
    "from my_utils import insert_into_mssql, load_my_columns, \\\n",
    "                                        get_numbers_2, map_dff_to_my_columns, \\\n",
    "                                        max_number_find\n"
   ]
  },
  {
   "cell_type": "code",
   "execution_count": 4,
   "metadata": {},
   "outputs": [],
   "source": [
    "write_to_table = 'bronze.katm_077_sysinfo'\n",
    "columns_file = 'katm_077_sysinfo_fields.txt'\n",
    "columns = load_my_columns(columns_file)\n",
    "max_number = max_number_find(write_to_table)"
   ]
  },
  {
   "cell_type": "code",
   "execution_count": 5,
   "metadata": {},
   "outputs": [
    {
     "data": {
      "text/plain": [
       "1519666"
      ]
     },
     "execution_count": 5,
     "metadata": {},
     "output_type": "execute_result"
    }
   ],
   "source": [
    "max_number"
   ]
  },
  {
   "cell_type": "code",
   "execution_count": 6,
   "metadata": {},
   "outputs": [],
   "source": [
    "client = client = get_mongo_client()\n",
    "db = client['task']\n",
    "task_collection = db['task']\n",
    "query = {\n",
    "    'data.katm_077.return.data.sysinfo': {'$exists': True}\n",
    "    # ,'number': {'$eq': 7090166}\n",
    "    ,'number': {'$gt': max_number}\n",
    "    # ,'number': {'$gt': 1243100, '$lt': 1243200}\n",
    "    # ,'number': {'$in': numbers}\n",
    "    \n",
    "}\n",
    "projection = {\n",
    "    'number': 1,\n",
    "    'data.katm_077.return.data.sysinfo': 1\n",
    "}"
   ]
  },
  {
   "cell_type": "code",
   "execution_count": 7,
   "metadata": {},
   "outputs": [],
   "source": [
    "docs = task_collection.find_one(query, projection)"
   ]
  },
  {
   "cell_type": "code",
   "execution_count": 8,
   "metadata": {},
   "outputs": [
    {
     "data": {
      "text/plain": [
       "{'_id': ObjectId('65793ff9d12c6f0ca828269b'),\n",
       " 'number': 1519667,\n",
       " 'data': {'katm_077': {'return': {'data': {'sysinfo': {'notes': '1.\\tПредоставление и использование кредитной информации регулируется законом № ЗРУ-301 «Об обмене кредитной информацией» от 04.10.2011 г.\\n2.\\tКредитное бюро не проставляет запрета на кредитование, не вносит субъекта кредитной информации в «чёрный» список и не осуществляет никаких корректировок, исправлений, удалений в кредитную информацию, отражённой в кредитном отчёте. Внести изменения вправе, организация, предоставившая информацию, и только в случае, если данные переданы неверно или ошибочно.\\n3.\\tЕсли субъект кредитной информации не согласен с какой-либо информацией, содержащейся в кредитном отчёте, субъекту кредитной информации необходимо обратиться сперва к поставщику информации, а затем в кредитное бюро с заявлением об оспаривании информации.\\n4.\\tСкоринговый балл имеет рекомендательный характер и может быть основанием для выдачи или отказа кредитов только по усмотрению кредитора.\\n5.\\tНегативные факторы во время льготного периода в период пандемии с 01.03.2020-01.10.2020 не влияют на скоринговый балл.\\n6.\\tСреднемесячный платёж включает в себя расчёт исходя из остатков основного долга и прогнозного платежа по процентам (аннуитетный).\\n7.\\tКредиты в иностранной валюте в совокупных суммах рассчитывается в сумовом эквиваленте по курсу ЦБ РУз на дату формирования кредитного отчёта.\\n8.\\tПри изменениях расчётов меняется версия скорингового балла.',\n",
       "      'subject_type': '1',\n",
       "      'org': '033',\n",
       "      'claim_id': '6412837724',\n",
       "      'report_type': '077',\n",
       "      'branch': '00937',\n",
       "      'demand_id': '0332023347757170',\n",
       "      'user_id': 'ТОШКЕНТ Ш., \"ИПОТЕКА-БАНК\" АТИБ БОШ АМАЛИЁТ БОШКАРМАСИ (00937), System S.S',\n",
       "      'consent_date': '2023- 12-13',\n",
       "      'report_name': 'InfoScore (XML)',\n",
       "      'org_name': 'ТОШКЕНТ Ш., \"ИПОТЕКА-БАНК\" АТИБ БОШ АМАЛИЁТ БОШКАРМАСИ',\n",
       "      'demand_date_time': '2023-12-13 10:23',\n",
       "      'consent_id': '6412837724',\n",
       "      'claim_date': datetime.datetime(1970, 1, 1, 0, 0)}}}}}}"
      ]
     },
     "execution_count": 8,
     "metadata": {},
     "output_type": "execute_result"
    }
   ],
   "source": [
    "docs"
   ]
  },
  {
   "cell_type": "code",
   "execution_count": 3,
   "metadata": {},
   "outputs": [
    {
     "data": {
      "text/plain": [
       "['_id',\n",
       " 'number',\n",
       " 'notes',\n",
       " 'subject_type',\n",
       " 'org',\n",
       " 'claim_id',\n",
       " 'report_type',\n",
       " 'branch',\n",
       " 'demand_id',\n",
       " 'user_id',\n",
       " 'consent_date',\n",
       " 'report_name',\n",
       " 'org_name',\n",
       " 'demand_date_time',\n",
       " 'consent_id',\n",
       " 'claim_date']"
      ]
     },
     "execution_count": 3,
     "metadata": {},
     "output_type": "execute_result"
    }
   ],
   "source": [
    "columns"
   ]
  },
  {
   "cell_type": "code",
   "execution_count": 16,
   "metadata": {},
   "outputs": [],
   "source": [
    "client = client = get_mongo_client()\n",
    "db = client['task']\n",
    "task_collection = db['task']\n",
    "query = {\n",
    "    'data.katm_077.return.data.sysinfo': {'$exists': True}\n",
    "    # ,'number': {'$eq': 7090166}\n",
    "    # ,'number': {'$gt': max_num}\n",
    "    ,'number': {'$gt': 1243100, '$lt': 1243200}\n",
    "    # ,'number': {'$in': numbers}\n",
    "    \n",
    "}\n",
    "projection = {\n",
    "    'number': 1,\n",
    "    'data.katm_077.return.data.sysinfo': 1\n",
    "}"
   ]
  },
  {
   "cell_type": "code",
   "execution_count": 17,
   "metadata": {},
   "outputs": [],
   "source": [
    "docs = task_collection.find(query, projection)#.sort('number', -1)"
   ]
  },
  {
   "cell_type": "code",
   "execution_count": 10,
   "metadata": {},
   "outputs": [
    {
     "name": "stdout",
     "output_type": "stream",
     "text": [
      "Error inserting row 0: ('42000', \"[42000] [Microsoft][ODBC Driver 17 for SQL Server][SQL Server]String or binary data would be truncated in table 'RISKDB.BRONZE.katm_077_sysinfo', column 'notes'. Truncated value: '1.\\tПредоставление и использование кредитной информации регулируется законом № ЗРУ-301 «Об обмене кре'. (2628) (SQLExecDirectW)\")\n",
      "Error inserting row 0: ('42000', \"[42000] [Microsoft][ODBC Driver 17 for SQL Server][SQL Server]String or binary data would be truncated in table 'RISKDB.BRONZE.katm_077_sysinfo', column 'notes'. Truncated value: '1.\\tПредоставление и использование кредитной информации регулируется законом № ЗРУ-301 «Об обмене кре'. (2628) (SQLExecDirectW)\")\n",
      "Error inserting row 0: ('42000', \"[42000] [Microsoft][ODBC Driver 17 for SQL Server][SQL Server]String or binary data would be truncated in table 'RISKDB.BRONZE.katm_077_sysinfo', column 'notes'. Truncated value: '1.\\tПредоставление и использование кредитной информации регулируется законом № ЗРУ-301 «Об обмене кре'. (2628) (SQLExecDirectW)\")\n",
      "Error inserting row 0: ('42000', \"[42000] [Microsoft][ODBC Driver 17 for SQL Server][SQL Server]String or binary data would be truncated in table 'RISKDB.BRONZE.katm_077_sysinfo', column 'notes'. Truncated value: '1.\\tПредоставление и использование кредитной информации регулируется законом № ЗРУ-301 «Об обмене кре'. (2628) (SQLExecDirectW)\")\n",
      "Error inserting row 0: ('42000', \"[42000] [Microsoft][ODBC Driver 17 for SQL Server][SQL Server]String or binary data would be truncated in table 'RISKDB.BRONZE.katm_077_sysinfo', column 'notes'. Truncated value: '1.\\tПредоставление и использование кредитной информации регулируется законом № ЗРУ-301 «Об обмене кре'. (2628) (SQLExecDirectW)\")\n",
      "Error inserting row 0: ('42000', \"[42000] [Microsoft][ODBC Driver 17 for SQL Server][SQL Server]String or binary data would be truncated in table 'RISKDB.BRONZE.katm_077_sysinfo', column 'notes'. Truncated value: '1.\\tПредоставление и использование кредитной информации регулируется законом № ЗРУ-301 «Об обмене кре'. (2628) (SQLExecDirectW)\")\n",
      "Error inserting row 0: ('42000', \"[42000] [Microsoft][ODBC Driver 17 for SQL Server][SQL Server]String or binary data would be truncated in table 'RISKDB.BRONZE.katm_077_sysinfo', column 'notes'. Truncated value: '1.\\tПредоставление и использование кредитной информации регулируется законом № ЗРУ-301 «Об обмене кре'. (2628) (SQLExecDirectW)\")\n",
      "Error inserting row 0: ('42000', \"[42000] [Microsoft][ODBC Driver 17 for SQL Server][SQL Server]String or binary data would be truncated in table 'RISKDB.BRONZE.katm_077_sysinfo', column 'notes'. Truncated value: '1.\\tПредоставление и использование кредитной информации регулируется законом № ЗРУ-301 «Об обмене кре'. (2628) (SQLExecDirectW)\")\n",
      "Error inserting row 0: ('42000', \"[42000] [Microsoft][ODBC Driver 17 for SQL Server][SQL Server]String or binary data would be truncated in table 'RISKDB.BRONZE.katm_077_sysinfo', column 'notes'. Truncated value: '1.\\tПредоставление и использование кредитной информации регулируется законом № ЗРУ-301 «Об обмене кре'. (2628) (SQLExecDirectW)\")\n",
      "Error inserting row 0: ('42000', \"[42000] [Microsoft][ODBC Driver 17 for SQL Server][SQL Server]String or binary data would be truncated in table 'RISKDB.BRONZE.katm_077_sysinfo', column 'notes'. Truncated value: '1.\\tПредоставление и использование кредитной информации регулируется законом № ЗРУ-301 «Об обмене кре'. (2628) (SQLExecDirectW)\")\n",
      "Error inserting row 0: ('42000', \"[42000] [Microsoft][ODBC Driver 17 for SQL Server][SQL Server]String or binary data would be truncated in table 'RISKDB.BRONZE.katm_077_sysinfo', column 'notes'. Truncated value: '1.\\tПредоставление и использование кредитной информации регулируется законом № ЗРУ-301 «Об обмене кре'. (2628) (SQLExecDirectW)\")\n",
      "Error inserting row 0: ('42000', \"[42000] [Microsoft][ODBC Driver 17 for SQL Server][SQL Server]String or binary data would be truncated in table 'RISKDB.BRONZE.katm_077_sysinfo', column 'notes'. Truncated value: '1.\\tПредоставление и использование кредитной информации регулируется законом № ЗРУ-301 «Об обмене кре'. (2628) (SQLExecDirectW)\")\n",
      "Error inserting row 0: ('42000', \"[42000] [Microsoft][ODBC Driver 17 for SQL Server][SQL Server]String or binary data would be truncated in table 'RISKDB.BRONZE.katm_077_sysinfo', column 'notes'. Truncated value: '1.\\tПредоставление и использование кредитной информации регулируется законом № ЗРУ-301 «Об обмене кре'. (2628) (SQLExecDirectW)\")\n",
      "Error inserting row 0: ('42000', \"[42000] [Microsoft][ODBC Driver 17 for SQL Server][SQL Server]String or binary data would be truncated in table 'RISKDB.BRONZE.katm_077_sysinfo', column 'notes'. Truncated value: '1.\\tПредоставление и использование кредитной информации регулируется законом № ЗРУ-301 «Об обмене кре'. (2628) (SQLExecDirectW)\")\n",
      "Error inserting row 0: ('42000', \"[42000] [Microsoft][ODBC Driver 17 for SQL Server][SQL Server]String or binary data would be truncated in table 'RISKDB.BRONZE.katm_077_sysinfo', column 'notes'. Truncated value: '1.\\tПредоставление и использование кредитной информации регулируется законом № ЗРУ-301 «Об обмене кре'. (2628) (SQLExecDirectW)\")\n",
      "Error inserting row 0: ('42000', \"[42000] [Microsoft][ODBC Driver 17 for SQL Server][SQL Server]String or binary data would be truncated in table 'RISKDB.BRONZE.katm_077_sysinfo', column 'notes'. Truncated value: '1.\\tПредоставление и использование кредитной информации регулируется законом № ЗРУ-301 «Об обмене кре'. (2628) (SQLExecDirectW)\")\n",
      "Error inserting row 0: ('42000', \"[42000] [Microsoft][ODBC Driver 17 for SQL Server][SQL Server]String or binary data would be truncated in table 'RISKDB.BRONZE.katm_077_sysinfo', column 'notes'. Truncated value: '1.\\tПредоставление и использование кредитной информации регулируется законом № ЗРУ-301 «Об обмене кре'. (2628) (SQLExecDirectW)\")\n",
      "Error inserting row 0: ('42000', \"[42000] [Microsoft][ODBC Driver 17 for SQL Server][SQL Server]String or binary data would be truncated in table 'RISKDB.BRONZE.katm_077_sysinfo', column 'notes'. Truncated value: '1.\\tПредоставление и использование кредитной информации регулируется законом № ЗРУ-301 «Об обмене кре'. (2628) (SQLExecDirectW)\")\n",
      "Error inserting row 0: ('42000', \"[42000] [Microsoft][ODBC Driver 17 for SQL Server][SQL Server]String or binary data would be truncated in table 'RISKDB.BRONZE.katm_077_sysinfo', column 'notes'. Truncated value: '1.\\tПредоставление и использование кредитной информации регулируется законом № ЗРУ-301 «Об обмене кре'. (2628) (SQLExecDirectW)\")\n",
      "Error inserting row 0: ('42000', \"[42000] [Microsoft][ODBC Driver 17 for SQL Server][SQL Server]String or binary data would be truncated in table 'RISKDB.BRONZE.katm_077_sysinfo', column 'notes'. Truncated value: '1.\\tПредоставление и использование кредитной информации регулируется законом № ЗРУ-301 «Об обмене кре'. (2628) (SQLExecDirectW)\")\n",
      "Error inserting row 0: ('42000', \"[42000] [Microsoft][ODBC Driver 17 for SQL Server][SQL Server]String or binary data would be truncated in table 'RISKDB.BRONZE.katm_077_sysinfo', column 'notes'. Truncated value: '1.\\tПредоставление и использование кредитной информации регулируется законом № ЗРУ-301 «Об обмене кре'. (2628) (SQLExecDirectW)\")\n",
      "Error inserting row 0: ('42000', \"[42000] [Microsoft][ODBC Driver 17 for SQL Server][SQL Server]String or binary data would be truncated in table 'RISKDB.BRONZE.katm_077_sysinfo', column 'notes'. Truncated value: '1.\\tПредоставление и использование кредитной информации регулируется законом № ЗРУ-301 «Об обмене кре'. (2628) (SQLExecDirectW)\")\n",
      "Error inserting row 0: ('42000', \"[42000] [Microsoft][ODBC Driver 17 for SQL Server][SQL Server]String or binary data would be truncated in table 'RISKDB.BRONZE.katm_077_sysinfo', column 'notes'. Truncated value: '1.\\tПредоставление и использование кредитной информации регулируется законом № ЗРУ-301 «Об обмене кре'. (2628) (SQLExecDirectW)\")\n",
      "Error inserting row 0: ('42000', \"[42000] [Microsoft][ODBC Driver 17 for SQL Server][SQL Server]String or binary data would be truncated in table 'RISKDB.BRONZE.katm_077_sysinfo', column 'notes'. Truncated value: '1.\\tПредоставление и использование кредитной информации регулируется законом № ЗРУ-301 «Об обмене кре'. (2628) (SQLExecDirectW)\")\n",
      "Error inserting row 0: ('42000', \"[42000] [Microsoft][ODBC Driver 17 for SQL Server][SQL Server]String or binary data would be truncated in table 'RISKDB.BRONZE.katm_077_sysinfo', column 'notes'. Truncated value: '1.\\tПредоставление и использование кредитной информации регулируется законом № ЗРУ-301 «Об обмене кре'. (2628) (SQLExecDirectW)\")\n",
      "Error inserting row 0: ('42000', \"[42000] [Microsoft][ODBC Driver 17 for SQL Server][SQL Server]String or binary data would be truncated in table 'RISKDB.BRONZE.katm_077_sysinfo', column 'notes'. Truncated value: '1.\\tПредоставление и использование кредитной информации регулируется законом № ЗРУ-301 «Об обмене кре'. (2628) (SQLExecDirectW)\")\n",
      "Error inserting row 0: ('42000', \"[42000] [Microsoft][ODBC Driver 17 for SQL Server][SQL Server]String or binary data would be truncated in table 'RISKDB.BRONZE.katm_077_sysinfo', column 'notes'. Truncated value: '1.\\tПредоставление и использование кредитной информации регулируется законом № ЗРУ-301 «Об обмене кре'. (2628) (SQLExecDirectW)\")\n",
      "Error inserting row 0: ('42000', \"[42000] [Microsoft][ODBC Driver 17 for SQL Server][SQL Server]String or binary data would be truncated in table 'RISKDB.BRONZE.katm_077_sysinfo', column 'notes'. Truncated value: '1.\\tПредоставление и использование кредитной информации регулируется законом № ЗРУ-301 «Об обмене кре'. (2628) (SQLExecDirectW)\")\n",
      "Error inserting row 0: ('42000', \"[42000] [Microsoft][ODBC Driver 17 for SQL Server][SQL Server]String or binary data would be truncated in table 'RISKDB.BRONZE.katm_077_sysinfo', column 'notes'. Truncated value: '1.\\tПредоставление и использование кредитной информации регулируется законом № ЗРУ-301 «Об обмене кре'. (2628) (SQLExecDirectW)\")\n",
      "Error inserting row 0: ('42000', \"[42000] [Microsoft][ODBC Driver 17 for SQL Server][SQL Server]String or binary data would be truncated in table 'RISKDB.BRONZE.katm_077_sysinfo', column 'notes'. Truncated value: '1.\\tПредоставление и использование кредитной информации регулируется законом № ЗРУ-301 «Об обмене кре'. (2628) (SQLExecDirectW)\")\n",
      "Error inserting row 0: ('42000', \"[42000] [Microsoft][ODBC Driver 17 for SQL Server][SQL Server]String or binary data would be truncated in table 'RISKDB.BRONZE.katm_077_sysinfo', column 'notes'. Truncated value: '1.\\tПредоставление и использование кредитной информации регулируется законом № ЗРУ-301 «Об обмене кре'. (2628) (SQLExecDirectW)\")\n",
      "Error inserting row 0: ('42000', \"[42000] [Microsoft][ODBC Driver 17 for SQL Server][SQL Server]String or binary data would be truncated in table 'RISKDB.BRONZE.katm_077_sysinfo', column 'notes'. Truncated value: '1.\\tПредоставление и использование кредитной информации регулируется законом № ЗРУ-301 «Об обмене кре'. (2628) (SQLExecDirectW)\")\n",
      "Error inserting row 0: ('42000', \"[42000] [Microsoft][ODBC Driver 17 for SQL Server][SQL Server]String or binary data would be truncated in table 'RISKDB.BRONZE.katm_077_sysinfo', column 'notes'. Truncated value: '1.\\tПредоставление и использование кредитной информации регулируется законом № ЗРУ-301 «Об обмене кре'. (2628) (SQLExecDirectW)\")\n",
      "Error inserting row 0: ('42000', \"[42000] [Microsoft][ODBC Driver 17 for SQL Server][SQL Server]String or binary data would be truncated in table 'RISKDB.BRONZE.katm_077_sysinfo', column 'notes'. Truncated value: '1.\\tПредоставление и использование кредитной информации регулируется законом № ЗРУ-301 «Об обмене кре'. (2628) (SQLExecDirectW)\")\n",
      "Error inserting row 0: ('42000', \"[42000] [Microsoft][ODBC Driver 17 for SQL Server][SQL Server]String or binary data would be truncated in table 'RISKDB.BRONZE.katm_077_sysinfo', column 'notes'. Truncated value: '1.\\tПредоставление и использование кредитной информации регулируется законом № ЗРУ-301 «Об обмене кре'. (2628) (SQLExecDirectW)\")\n",
      "Error inserting row 0: ('42000', \"[42000] [Microsoft][ODBC Driver 17 for SQL Server][SQL Server]String or binary data would be truncated in table 'RISKDB.BRONZE.katm_077_sysinfo', column 'notes'. Truncated value: '1.\\tПредоставление и использование кредитной информации регулируется законом № ЗРУ-301 «Об обмене кре'. (2628) (SQLExecDirectW)\")\n",
      "Error inserting row 0: ('42000', \"[42000] [Microsoft][ODBC Driver 17 for SQL Server][SQL Server]String or binary data would be truncated in table 'RISKDB.BRONZE.katm_077_sysinfo', column 'notes'. Truncated value: '1.\\tПредоставление и использование кредитной информации регулируется законом № ЗРУ-301 «Об обмене кре'. (2628) (SQLExecDirectW)\")\n",
      "Error inserting row 0: ('42000', \"[42000] [Microsoft][ODBC Driver 17 for SQL Server][SQL Server]String or binary data would be truncated in table 'RISKDB.BRONZE.katm_077_sysinfo', column 'notes'. Truncated value: '1.\\tПредоставление и использование кредитной информации регулируется законом № ЗРУ-301 «Об обмене кре'. (2628) (SQLExecDirectW)\")\n",
      "Error inserting row 0: ('42000', \"[42000] [Microsoft][ODBC Driver 17 for SQL Server][SQL Server]String or binary data would be truncated in table 'RISKDB.BRONZE.katm_077_sysinfo', column 'notes'. Truncated value: '1.\\tПредоставление и использование кредитной информации регулируется законом № ЗРУ-301 «Об обмене кре'. (2628) (SQLExecDirectW)\")\n",
      "Error inserting row 0: ('42000', \"[42000] [Microsoft][ODBC Driver 17 for SQL Server][SQL Server]String or binary data would be truncated in table 'RISKDB.BRONZE.katm_077_sysinfo', column 'notes'. Truncated value: '1.\\tПредоставление и использование кредитной информации регулируется законом № ЗРУ-301 «Об обмене кре'. (2628) (SQLExecDirectW)\")\n",
      "Error inserting row 0: ('42000', \"[42000] [Microsoft][ODBC Driver 17 for SQL Server][SQL Server]String or binary data would be truncated in table 'RISKDB.BRONZE.katm_077_sysinfo', column 'notes'. Truncated value: '1.\\tПредоставление и использование кредитной информации регулируется законом № ЗРУ-301 «Об обмене кре'. (2628) (SQLExecDirectW)\")\n",
      "Error inserting row 0: ('42000', \"[42000] [Microsoft][ODBC Driver 17 for SQL Server][SQL Server]String or binary data would be truncated in table 'RISKDB.BRONZE.katm_077_sysinfo', column 'notes'. Truncated value: '1.\\tПредоставление и использование кредитной информации регулируется законом № ЗРУ-301 «Об обмене кре'. (2628) (SQLExecDirectW)\")\n",
      "Error inserting row 0: ('42000', \"[42000] [Microsoft][ODBC Driver 17 for SQL Server][SQL Server]String or binary data would be truncated in table 'RISKDB.BRONZE.katm_077_sysinfo', column 'notes'. Truncated value: '1.\\tПредоставление и использование кредитной информации регулируется законом № ЗРУ-301 «Об обмене кре'. (2628) (SQLExecDirectW)\")\n",
      "Error inserting row 0: ('42000', \"[42000] [Microsoft][ODBC Driver 17 for SQL Server][SQL Server]String or binary data would be truncated in table 'RISKDB.BRONZE.katm_077_sysinfo', column 'notes'. Truncated value: '1.\\tПредоставление и использование кредитной информации регулируется законом № ЗРУ-301 «Об обмене кре'. (2628) (SQLExecDirectW)\")\n",
      "Error inserting row 0: ('42000', \"[42000] [Microsoft][ODBC Driver 17 for SQL Server][SQL Server]String or binary data would be truncated in table 'RISKDB.BRONZE.katm_077_sysinfo', column 'notes'. Truncated value: '1.\\tПредоставление и использование кредитной информации регулируется законом № ЗРУ-301 «Об обмене кре'. (2628) (SQLExecDirectW)\")\n",
      "Error inserting row 0: ('42000', \"[42000] [Microsoft][ODBC Driver 17 for SQL Server][SQL Server]String or binary data would be truncated in table 'RISKDB.BRONZE.katm_077_sysinfo', column 'notes'. Truncated value: '1.\\tПредоставление и использование кредитной информации регулируется законом № ЗРУ-301 «Об обмене кре'. (2628) (SQLExecDirectW)\")\n",
      "Error inserting row 0: ('42000', \"[42000] [Microsoft][ODBC Driver 17 for SQL Server][SQL Server]String or binary data would be truncated in table 'RISKDB.BRONZE.katm_077_sysinfo', column 'notes'. Truncated value: '1.\\tПредоставление и использование кредитной информации регулируется законом № ЗРУ-301 «Об обмене кре'. (2628) (SQLExecDirectW)\")\n",
      "Error inserting row 0: ('42000', \"[42000] [Microsoft][ODBC Driver 17 for SQL Server][SQL Server]String or binary data would be truncated in table 'RISKDB.BRONZE.katm_077_sysinfo', column 'notes'. Truncated value: '1.\\tПредоставление и использование кредитной информации регулируется законом № ЗРУ-301 «Об обмене кре'. (2628) (SQLExecDirectW)\")\n",
      "Error inserting row 0: ('42000', \"[42000] [Microsoft][ODBC Driver 17 for SQL Server][SQL Server]String or binary data would be truncated in table 'RISKDB.BRONZE.katm_077_sysinfo', column 'notes'. Truncated value: '1.\\tПредоставление и использование кредитной информации регулируется законом № ЗРУ-301 «Об обмене кре'. (2628) (SQLExecDirectW)\")\n",
      "Error inserting row 0: ('42000', \"[42000] [Microsoft][ODBC Driver 17 for SQL Server][SQL Server]String or binary data would be truncated in table 'RISKDB.BRONZE.katm_077_sysinfo', column 'notes'. Truncated value: '1.\\tПредоставление и использование кредитной информации регулируется законом № ЗРУ-301 «Об обмене кре'. (2628) (SQLExecDirectW)\")\n",
      "Error inserting row 0: ('42000', \"[42000] [Microsoft][ODBC Driver 17 for SQL Server][SQL Server]String or binary data would be truncated in table 'RISKDB.BRONZE.katm_077_sysinfo', column 'notes'. Truncated value: '1.\\tПредоставление и использование кредитной информации регулируется законом № ЗРУ-301 «Об обмене кре'. (2628) (SQLExecDirectW)\")\n",
      "Error inserting row 0: ('42000', \"[42000] [Microsoft][ODBC Driver 17 for SQL Server][SQL Server]String or binary data would be truncated in table 'RISKDB.BRONZE.katm_077_sysinfo', column 'notes'. Truncated value: '1.\\tПредоставление и использование кредитной информации регулируется законом № ЗРУ-301 «Об обмене кре'. (2628) (SQLExecDirectW)\")\n",
      "Error inserting row 0: ('42000', \"[42000] [Microsoft][ODBC Driver 17 for SQL Server][SQL Server]String or binary data would be truncated in table 'RISKDB.BRONZE.katm_077_sysinfo', column 'notes'. Truncated value: '1.\\tПредоставление и использование кредитной информации регулируется законом № ЗРУ-301 «Об обмене кре'. (2628) (SQLExecDirectW)\")\n",
      "Error inserting row 0: ('42000', \"[42000] [Microsoft][ODBC Driver 17 for SQL Server][SQL Server]String or binary data would be truncated in table 'RISKDB.BRONZE.katm_077_sysinfo', column 'notes'. Truncated value: '1.\\tПредоставление и использование кредитной информации регулируется законом № ЗРУ-301 «Об обмене кре'. (2628) (SQLExecDirectW)\")\n",
      "Error inserting row 0: ('42000', \"[42000] [Microsoft][ODBC Driver 17 for SQL Server][SQL Server]String or binary data would be truncated in table 'RISKDB.BRONZE.katm_077_sysinfo', column 'notes'. Truncated value: '1.\\tПредоставление и использование кредитной информации регулируется законом № ЗРУ-301 «Об обмене кре'. (2628) (SQLExecDirectW)\")\n",
      "Error inserting row 0: ('42000', \"[42000] [Microsoft][ODBC Driver 17 for SQL Server][SQL Server]String or binary data would be truncated in table 'RISKDB.BRONZE.katm_077_sysinfo', column 'notes'. Truncated value: '1.\\tПредоставление и использование кредитной информации регулируется законом № ЗРУ-301 «Об обмене кре'. (2628) (SQLExecDirectW)\")\n",
      "Error inserting row 0: ('42000', \"[42000] [Microsoft][ODBC Driver 17 for SQL Server][SQL Server]String or binary data would be truncated in table 'RISKDB.BRONZE.katm_077_sysinfo', column 'notes'. Truncated value: '1.\\tПредоставление и использование кредитной информации регулируется законом № ЗРУ-301 «Об обмене кре'. (2628) (SQLExecDirectW)\")\n",
      "Error inserting row 0: ('42000', \"[42000] [Microsoft][ODBC Driver 17 for SQL Server][SQL Server]String or binary data would be truncated in table 'RISKDB.BRONZE.katm_077_sysinfo', column 'notes'. Truncated value: '1.\\tПредоставление и использование кредитной информации регулируется законом № ЗРУ-301 «Об обмене кре'. (2628) (SQLExecDirectW)\")\n"
     ]
    }
   ],
   "source": [
    "for doc in docs:\n",
    "    rows = []\n",
    "    _id = str(doc.get('_id')) \n",
    "    number = doc.get('number')\n",
    "    fields = doc.get('data', {}).get('katm_077', {}).get('return', {}).get('data', {}).get('sysinfo', {})\n",
    "    if isinstance(fields, dict):\n",
    "        fields = [fields]\n",
    "    elif fields is None:\n",
    "        fields = []\n",
    "    for field in fields:\n",
    "        row = {'_id': _id, 'number': number, **field}\n",
    "        rows.append(row)\n",
    "\n",
    "    df = pd.DataFrame(rows)\n",
    "    final_df = map_dff_to_my_columns(df, columns)\n",
    "    insert_into_mssql_2(final_df, write_to_table)"
   ]
  }
 ],
 "metadata": {
  "kernelspec": {
   "display_name": "venv",
   "language": "python",
   "name": "python3"
  },
  "language_info": {
   "codemirror_mode": {
    "name": "ipython",
    "version": 3
   },
   "file_extension": ".py",
   "mimetype": "text/x-python",
   "name": "python",
   "nbconvert_exporter": "python",
   "pygments_lexer": "ipython3",
   "version": "3.13.0"
  }
 },
 "nbformat": 4,
 "nbformat_minor": 2
}
