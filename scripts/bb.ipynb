{
 "cells": [
  {
   "cell_type": "code",
   "execution_count": 366,
   "metadata": {},
   "outputs": [],
   "source": [
    "import json\n",
    "import pandas as pd\n",
    "from time import time\n",
    "from connections import get_mongo_client, get_sql_server_connection\n",
    "from my_utils import insert_into_mssql, load_my_columns, \\\n",
    "                        get_numbers,map_dff_to_my_columns, max_number_find\n"
   ]
  },
  {
   "cell_type": "code",
   "execution_count": 367,
   "metadata": {},
   "outputs": [],
   "source": [
    "def get_numbers(table_name, foreign_key, top=1000000):\n",
    "    conn = get_sql_server_connection()\n",
    "    cursor = conn.cursor()\n",
    "    query = f\"\"\"\n",
    "        \n",
    "                select top {top} o.number\n",
    "                from bronze.katm_077_overview o\n",
    "                left join {table_name} c\n",
    "                on o.number = c.number\n",
    "                where c.number is null\n",
    "                and o.{foreign_key} != '0'\n",
    "\n",
    "    \"\"\"\n",
    "    try:\n",
    "        cursor.execute(query)\n",
    "        result = cursor.fetchall()\n",
    "        return [row[0] for row in result]\n",
    "    except Exception as e:\n",
    "        print(f\"Error fetching contract_id from table '{table_name}': {e}\")\n",
    "        return []\n",
    "    finally:\n",
    "        cursor.close()\n",
    "        conn.close()"
   ]
  },
  {
   "cell_type": "code",
   "execution_count": 368,
   "metadata": {},
   "outputs": [],
   "source": [
    "start = time()\n",
    "get_nums_table='bronze.katm_077_contracts'\n",
    "foreign_key = 'contracts_qty'\n",
    "write_to_table = 'bronze.katm_077_contracts_test'\n",
    "columns_file = 'katm_077_contracts_fields.txt'\n",
    "columns = load_my_columns(columns_file)"
   ]
  },
  {
   "cell_type": "code",
   "execution_count": 369,
   "metadata": {},
   "outputs": [],
   "source": [
    "numbers = [int(i) for i in get_numbers(get_nums_table, foreign_key, 10000)]"
   ]
  },
  {
   "cell_type": "code",
   "execution_count": 370,
   "metadata": {},
   "outputs": [
    {
     "name": "stdout",
     "output_type": "stream",
     "text": [
      "1\n"
     ]
    }
   ],
   "source": [
    "print(len(numbers))"
   ]
  },
  {
   "cell_type": "code",
   "execution_count": null,
   "metadata": {},
   "outputs": [],
   "source": []
  }
 ],
 "metadata": {
  "kernelspec": {
   "display_name": "venv",
   "language": "python",
   "name": "python3"
  },
  "language_info": {
   "codemirror_mode": {
    "name": "ipython",
    "version": 3
   },
   "file_extension": ".py",
   "mimetype": "text/x-python",
   "name": "python",
   "nbconvert_exporter": "python",
   "pygments_lexer": "ipython3",
   "version": "3.13.0"
  }
 },
 "nbformat": 4,
 "nbformat_minor": 2
}
