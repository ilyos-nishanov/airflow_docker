{
 "cells": [
  {
   "cell_type": "code",
   "execution_count": 1,
   "metadata": {},
   "outputs": [],
   "source": [
    "import oracledb\n",
    "import pyodbc\n",
    "\n",
    "\n",
    "SQL_CREDENTIALS = {\n",
    "    \"driver\": \"ODBC Driver 17 for SQL Server\",\n",
    "    \"server\": \"172.17.17.22,54312\",\n",
    "    \"database\": \"RISKDB\",\n",
    "    \"username\": \"risk_technology_dev\",\n",
    "    \"password\": \"tTcnjl6T\",\n",
    "}\n",
    "\n",
    "\n",
    "ORACLE_CREDENTIALS = {\n",
    "        \"user\": \"NishanovII\",\n",
    "        \"password\": \"hfSAjVOqH0Q5\",\n",
    "        \"dsn\": oracledb.makedsn(\"192.168.81.115\", \"1521\", service_name=\"orcl1\")\n",
    "}\n",
    "\n",
    "def get_mssql_connection():\n",
    "    creds = SQL_CREDENTIALS\n",
    "    return pyodbc.connect(\n",
    "        f\"Driver={{{creds['driver']}}};\"\n",
    "        f\"Server={creds['server']};\"\n",
    "        f\"Database={creds['database']};\"\n",
    "        f\"UID={creds['username']};\"\n",
    "        f\"PWD={creds['password']};\"\n",
    "    )\n",
    "\n",
    "def get_oracle_connection():\n",
    "    creds = ORACLE_CREDENTIALS\n",
    "    oracledb.init_oracle_client()\n",
    "    return oracledb.connect(user=creds[\"user\"], password=creds[\"password\"], dsn=creds[\"dsn\"])\n"
   ]
  },
  {
   "cell_type": "code",
   "execution_count": 6,
   "metadata": {},
   "outputs": [
    {
     "name": "stdout",
     "output_type": "stream",
     "text": [
      "[('Microsoft SQL Server 2022 (RTM) - 16.0.1000.6 (X64) \\n\\tOct  8 2022 05:58:25 \\n\\tCopyright (C) 2022 Microsoft Corporation\\n\\tEnterprise Edition: Core-based Licensing (64-bit) on Windows Server 2022 Standard 10.0 <X64> (Build 20348: ) (Hypervisor)\\n',)]\n"
     ]
    }
   ],
   "source": [
    "connection = get_mssql_connection()\n",
    "cursor = connection.cursor()\n",
    "\n",
    "\n",
    "cursor.execute(\"select @@VERSION\")\n",
    "version = cursor.fetchall()\n",
    "connection.commit()\n",
    "cursor.close()\n",
    "print(version)"
   ]
  },
  {
   "cell_type": "code",
   "execution_count": 9,
   "metadata": {},
   "outputs": [
    {
     "name": "stdout",
     "output_type": "stream",
     "text": [
      "[('11.2.0.4.0',)]\n"
     ]
    }
   ],
   "source": [
    "connection = get_oracle_connection()\n",
    "cursor = connection.cursor()\n",
    "\n",
    "\n",
    "cursor.execute(\"\"\"SELECT version FROM PRODUCT_COMPONENT_VERSION\n",
    "WHERE product LIKE 'Oracle Database%'\"\"\")\n",
    "version = cursor.fetchall()\n",
    "connection.commit()\n",
    "cursor.close()\n",
    "print(version)"
   ]
  },
  {
   "cell_type": "code",
   "execution_count": 4,
   "metadata": {},
   "outputs": [],
   "source": [
    "from datetime import datetime, timedelta"
   ]
  },
  {
   "cell_type": "code",
   "execution_count": 5,
   "metadata": {},
   "outputs": [],
   "source": [
    "def get_date_range():\n",
    "\n",
    "    today = datetime.today()\n",
    "    first_day_of_current_month = today.replace(day=1)\n",
    "    end_date = first_day_of_current_month.strftime('%d-%m-%Y')\n",
    "    start_date = (first_day_of_current_month - timedelta(days=90)).replace(day=1).strftime('%d-%m-%Y')\n",
    "    return start_date, end_date"
   ]
  },
  {
   "cell_type": "code",
   "execution_count": 6,
   "metadata": {},
   "outputs": [
    {
     "data": {
      "text/plain": [
       "('01-10-2024', '01-01-2025')"
      ]
     },
     "execution_count": 6,
     "metadata": {},
     "output_type": "execute_result"
    }
   ],
   "source": [
    "get_date_range()"
   ]
  },
  {
   "cell_type": "code",
   "execution_count": 3,
   "metadata": {},
   "outputs": [
    {
     "name": "stdout",
     "output_type": "stream",
     "text": [
      "AND t.K_VID_CRED in (24, 34, 32)\n"
     ]
    }
   ],
   "source": [
    "products = '24, 34, 32'\n",
    "print(f\"AND t.K_VID_CRED in ({products})\")"
   ]
  }
 ],
 "metadata": {
  "kernelspec": {
   "display_name": "venv",
   "language": "python",
   "name": "python3"
  },
  "language_info": {
   "codemirror_mode": {
    "name": "ipython",
    "version": 3
   },
   "file_extension": ".py",
   "mimetype": "text/x-python",
   "name": "python",
   "nbconvert_exporter": "python",
   "pygments_lexer": "ipython3",
   "version": "3.13.0"
  }
 },
 "nbformat": 4,
 "nbformat_minor": 2
}
