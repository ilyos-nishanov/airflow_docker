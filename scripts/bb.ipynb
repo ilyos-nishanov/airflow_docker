{
 "cells": [
  {
   "cell_type": "code",
   "execution_count": 14,
   "metadata": {},
   "outputs": [],
   "source": [
    "import json\n",
    "import pandas as pd\n",
    "from time import time\n",
    "from connections import get_mongo_client\n",
    "from my_utils import insert_into_mssql, load_my_columns, \\\n",
    "                                        get_numbers_2, map_dff_to_my_columns"
   ]
  },
  {
   "cell_type": "code",
   "execution_count": 15,
   "metadata": {},
   "outputs": [],
   "source": [
    "write_to_table = 'bronze.katm_077_sysinfo'\n",
    "columns_file = 'katm_077_sysinfo_fields.txt'\n",
    "columns = load_my_columns(columns_file)"
   ]
  },
  {
   "cell_type": "code",
   "execution_count": 3,
   "metadata": {},
   "outputs": [
    {
     "data": {
      "text/plain": [
       "['_id',\n",
       " 'number',\n",
       " 'notes',\n",
       " 'subject_type',\n",
       " 'org',\n",
       " 'claim_id',\n",
       " 'report_type',\n",
       " 'branch',\n",
       " 'demand_id',\n",
       " 'user_id',\n",
       " 'consent_date',\n",
       " 'report_name',\n",
       " 'org_name',\n",
       " 'demand_date_time',\n",
       " 'consent_id',\n",
       " 'claim_date']"
      ]
     },
     "execution_count": 3,
     "metadata": {},
     "output_type": "execute_result"
    }
   ],
   "source": [
    "columns"
   ]
  },
  {
   "cell_type": "code",
   "execution_count": 16,
   "metadata": {},
   "outputs": [],
   "source": [
    "client = client = get_mongo_client()\n",
    "db = client['task']\n",
    "task_collection = db['task']\n",
    "query = {\n",
    "    'data.katm_077.return.data.sysinfo': {'$exists': True}\n",
    "    # ,'number': {'$eq': 7090166}\n",
    "    # ,'number': {'$gt': max_num}\n",
    "    ,'number': {'$gt': 1243100, '$lt': 1243200}\n",
    "    # ,'number': {'$in': numbers}\n",
    "    \n",
    "}\n",
    "projection = {\n",
    "    'number': 1,\n",
    "    'data.katm_077.return.data.sysinfo': 1\n",
    "}"
   ]
  },
  {
   "cell_type": "code",
   "execution_count": 17,
   "metadata": {},
   "outputs": [],
   "source": [
    "docs = task_collection.find(query, projection)#.sort('number', -1)"
   ]
  },
  {
   "cell_type": "code",
   "execution_count": 10,
   "metadata": {},
   "outputs": [
    {
     "name": "stdout",
     "output_type": "stream",
     "text": [
      "Error inserting row 0: ('42000', \"[42000] [Microsoft][ODBC Driver 17 for SQL Server][SQL Server]String or binary data would be truncated in table 'RISKDB.BRONZE.katm_077_sysinfo', column 'notes'. Truncated value: '1.\\tПредоставление и использование кредитной информации регулируется законом № ЗРУ-301 «Об обмене кре'. (2628) (SQLExecDirectW)\")\n",
      "Error inserting row 0: ('42000', \"[42000] [Microsoft][ODBC Driver 17 for SQL Server][SQL Server]String or binary data would be truncated in table 'RISKDB.BRONZE.katm_077_sysinfo', column 'notes'. Truncated value: '1.\\tПредоставление и использование кредитной информации регулируется законом № ЗРУ-301 «Об обмене кре'. (2628) (SQLExecDirectW)\")\n",
      "Error inserting row 0: ('42000', \"[42000] [Microsoft][ODBC Driver 17 for SQL Server][SQL Server]String or binary data would be truncated in table 'RISKDB.BRONZE.katm_077_sysinfo', column 'notes'. Truncated value: '1.\\tПредоставление и использование кредитной информации регулируется законом № ЗРУ-301 «Об обмене кре'. (2628) (SQLExecDirectW)\")\n",
      "Error inserting row 0: ('42000', \"[42000] [Microsoft][ODBC Driver 17 for SQL Server][SQL Server]String or binary data would be truncated in table 'RISKDB.BRONZE.katm_077_sysinfo', column 'notes'. Truncated value: '1.\\tПредоставление и использование кредитной информации регулируется законом № ЗРУ-301 «Об обмене кре'. (2628) (SQLExecDirectW)\")\n",
      "Error inserting row 0: ('42000', \"[42000] [Microsoft][ODBC Driver 17 for SQL Server][SQL Server]String or binary data would be truncated in table 'RISKDB.BRONZE.katm_077_sysinfo', column 'notes'. Truncated value: '1.\\tПредоставление и использование кредитной информации регулируется законом № ЗРУ-301 «Об обмене кре'. (2628) (SQLExecDirectW)\")\n",
      "Error inserting row 0: ('42000', \"[42000] [Microsoft][ODBC Driver 17 for SQL Server][SQL Server]String or binary data would be truncated in table 'RISKDB.BRONZE.katm_077_sysinfo', column 'notes'. Truncated value: '1.\\tПредоставление и использование кредитной информации регулируется законом № ЗРУ-301 «Об обмене кре'. (2628) (SQLExecDirectW)\")\n",
      "Error inserting row 0: ('42000', \"[42000] [Microsoft][ODBC Driver 17 for SQL Server][SQL Server]String or binary data would be truncated in table 'RISKDB.BRONZE.katm_077_sysinfo', column 'notes'. Truncated value: '1.\\tПредоставление и использование кредитной информации регулируется законом № ЗРУ-301 «Об обмене кре'. (2628) (SQLExecDirectW)\")\n",
      "Error inserting row 0: ('42000', \"[42000] [Microsoft][ODBC Driver 17 for SQL Server][SQL Server]String or binary data would be truncated in table 'RISKDB.BRONZE.katm_077_sysinfo', column 'notes'. Truncated value: '1.\\tПредоставление и использование кредитной информации регулируется законом № ЗРУ-301 «Об обмене кре'. (2628) (SQLExecDirectW)\")\n",
      "Error inserting row 0: ('42000', \"[42000] [Microsoft][ODBC Driver 17 for SQL Server][SQL Server]String or binary data would be truncated in table 'RISKDB.BRONZE.katm_077_sysinfo', column 'notes'. Truncated value: '1.\\tПредоставление и использование кредитной информации регулируется законом № ЗРУ-301 «Об обмене кре'. (2628) (SQLExecDirectW)\")\n",
      "Error inserting row 0: ('42000', \"[42000] [Microsoft][ODBC Driver 17 for SQL Server][SQL Server]String or binary data would be truncated in table 'RISKDB.BRONZE.katm_077_sysinfo', column 'notes'. Truncated value: '1.\\tПредоставление и использование кредитной информации регулируется законом № ЗРУ-301 «Об обмене кре'. (2628) (SQLExecDirectW)\")\n",
      "Error inserting row 0: ('42000', \"[42000] [Microsoft][ODBC Driver 17 for SQL Server][SQL Server]String or binary data would be truncated in table 'RISKDB.BRONZE.katm_077_sysinfo', column 'notes'. Truncated value: '1.\\tПредоставление и использование кредитной информации регулируется законом № ЗРУ-301 «Об обмене кре'. (2628) (SQLExecDirectW)\")\n",
      "Error inserting row 0: ('42000', \"[42000] [Microsoft][ODBC Driver 17 for SQL Server][SQL Server]String or binary data would be truncated in table 'RISKDB.BRONZE.katm_077_sysinfo', column 'notes'. Truncated value: '1.\\tПредоставление и использование кредитной информации регулируется законом № ЗРУ-301 «Об обмене кре'. (2628) (SQLExecDirectW)\")\n",
      "Error inserting row 0: ('42000', \"[42000] [Microsoft][ODBC Driver 17 for SQL Server][SQL Server]String or binary data would be truncated in table 'RISKDB.BRONZE.katm_077_sysinfo', column 'notes'. Truncated value: '1.\\tПредоставление и использование кредитной информации регулируется законом № ЗРУ-301 «Об обмене кре'. (2628) (SQLExecDirectW)\")\n",
      "Error inserting row 0: ('42000', \"[42000] [Microsoft][ODBC Driver 17 for SQL Server][SQL Server]String or binary data would be truncated in table 'RISKDB.BRONZE.katm_077_sysinfo', column 'notes'. Truncated value: '1.\\tПредоставление и использование кредитной информации регулируется законом № ЗРУ-301 «Об обмене кре'. (2628) (SQLExecDirectW)\")\n",
      "Error inserting row 0: ('42000', \"[42000] [Microsoft][ODBC Driver 17 for SQL Server][SQL Server]String or binary data would be truncated in table 'RISKDB.BRONZE.katm_077_sysinfo', column 'notes'. Truncated value: '1.\\tПредоставление и использование кредитной информации регулируется законом № ЗРУ-301 «Об обмене кре'. (2628) (SQLExecDirectW)\")\n",
      "Error inserting row 0: ('42000', \"[42000] [Microsoft][ODBC Driver 17 for SQL Server][SQL Server]String or binary data would be truncated in table 'RISKDB.BRONZE.katm_077_sysinfo', column 'notes'. Truncated value: '1.\\tПредоставление и использование кредитной информации регулируется законом № ЗРУ-301 «Об обмене кре'. (2628) (SQLExecDirectW)\")\n",
      "Error inserting row 0: ('42000', \"[42000] [Microsoft][ODBC Driver 17 for SQL Server][SQL Server]String or binary data would be truncated in table 'RISKDB.BRONZE.katm_077_sysinfo', column 'notes'. Truncated value: '1.\\tПредоставление и использование кредитной информации регулируется законом № ЗРУ-301 «Об обмене кре'. (2628) (SQLExecDirectW)\")\n",
      "Error inserting row 0: ('42000', \"[42000] [Microsoft][ODBC Driver 17 for SQL Server][SQL Server]String or binary data would be truncated in table 'RISKDB.BRONZE.katm_077_sysinfo', column 'notes'. Truncated value: '1.\\tПредоставление и использование кредитной информации регулируется законом № ЗРУ-301 «Об обмене кре'. (2628) (SQLExecDirectW)\")\n",
      "Error inserting row 0: ('42000', \"[42000] [Microsoft][ODBC Driver 17 for SQL Server][SQL Server]String or binary data would be truncated in table 'RISKDB.BRONZE.katm_077_sysinfo', column 'notes'. Truncated value: '1.\\tПредоставление и использование кредитной информации регулируется законом № ЗРУ-301 «Об обмене кре'. (2628) (SQLExecDirectW)\")\n",
      "Error inserting row 0: ('42000', \"[42000] [Microsoft][ODBC Driver 17 for SQL Server][SQL Server]String or binary data would be truncated in table 'RISKDB.BRONZE.katm_077_sysinfo', column 'notes'. Truncated value: '1.\\tПредоставление и использование кредитной информации регулируется законом № ЗРУ-301 «Об обмене кре'. (2628) (SQLExecDirectW)\")\n",
      "Error inserting row 0: ('42000', \"[42000] [Microsoft][ODBC Driver 17 for SQL Server][SQL Server]String or binary data would be truncated in table 'RISKDB.BRONZE.katm_077_sysinfo', column 'notes'. Truncated value: '1.\\tПредоставление и использование кредитной информации регулируется законом № ЗРУ-301 «Об обмене кре'. (2628) (SQLExecDirectW)\")\n",
      "Error inserting row 0: ('42000', \"[42000] [Microsoft][ODBC Driver 17 for SQL Server][SQL Server]String or binary data would be truncated in table 'RISKDB.BRONZE.katm_077_sysinfo', column 'notes'. Truncated value: '1.\\tПредоставление и использование кредитной информации регулируется законом № ЗРУ-301 «Об обмене кре'. (2628) (SQLExecDirectW)\")\n",
      "Error inserting row 0: ('42000', \"[42000] [Microsoft][ODBC Driver 17 for SQL Server][SQL Server]String or binary data would be truncated in table 'RISKDB.BRONZE.katm_077_sysinfo', column 'notes'. Truncated value: '1.\\tПредоставление и использование кредитной информации регулируется законом № ЗРУ-301 «Об обмене кре'. (2628) (SQLExecDirectW)\")\n",
      "Error inserting row 0: ('42000', \"[42000] [Microsoft][ODBC Driver 17 for SQL Server][SQL Server]String or binary data would be truncated in table 'RISKDB.BRONZE.katm_077_sysinfo', column 'notes'. Truncated value: '1.\\tПредоставление и использование кредитной информации регулируется законом № ЗРУ-301 «Об обмене кре'. (2628) (SQLExecDirectW)\")\n",
      "Error inserting row 0: ('42000', \"[42000] [Microsoft][ODBC Driver 17 for SQL Server][SQL Server]String or binary data would be truncated in table 'RISKDB.BRONZE.katm_077_sysinfo', column 'notes'. Truncated value: '1.\\tПредоставление и использование кредитной информации регулируется законом № ЗРУ-301 «Об обмене кре'. (2628) (SQLExecDirectW)\")\n",
      "Error inserting row 0: ('42000', \"[42000] [Microsoft][ODBC Driver 17 for SQL Server][SQL Server]String or binary data would be truncated in table 'RISKDB.BRONZE.katm_077_sysinfo', column 'notes'. Truncated value: '1.\\tПредоставление и использование кредитной информации регулируется законом № ЗРУ-301 «Об обмене кре'. (2628) (SQLExecDirectW)\")\n",
      "Error inserting row 0: ('42000', \"[42000] [Microsoft][ODBC Driver 17 for SQL Server][SQL Server]String or binary data would be truncated in table 'RISKDB.BRONZE.katm_077_sysinfo', column 'notes'. Truncated value: '1.\\tПредоставление и использование кредитной информации регулируется законом № ЗРУ-301 «Об обмене кре'. (2628) (SQLExecDirectW)\")\n",
      "Error inserting row 0: ('42000', \"[42000] [Microsoft][ODBC Driver 17 for SQL Server][SQL Server]String or binary data would be truncated in table 'RISKDB.BRONZE.katm_077_sysinfo', column 'notes'. Truncated value: '1.\\tПредоставление и использование кредитной информации регулируется законом № ЗРУ-301 «Об обмене кре'. (2628) (SQLExecDirectW)\")\n",
      "Error inserting row 0: ('42000', \"[42000] [Microsoft][ODBC Driver 17 for SQL Server][SQL Server]String or binary data would be truncated in table 'RISKDB.BRONZE.katm_077_sysinfo', column 'notes'. Truncated value: '1.\\tПредоставление и использование кредитной информации регулируется законом № ЗРУ-301 «Об обмене кре'. (2628) (SQLExecDirectW)\")\n",
      "Error inserting row 0: ('42000', \"[42000] [Microsoft][ODBC Driver 17 for SQL Server][SQL Server]String or binary data would be truncated in table 'RISKDB.BRONZE.katm_077_sysinfo', column 'notes'. Truncated value: '1.\\tПредоставление и использование кредитной информации регулируется законом № ЗРУ-301 «Об обмене кре'. (2628) (SQLExecDirectW)\")\n",
      "Error inserting row 0: ('42000', \"[42000] [Microsoft][ODBC Driver 17 for SQL Server][SQL Server]String or binary data would be truncated in table 'RISKDB.BRONZE.katm_077_sysinfo', column 'notes'. Truncated value: '1.\\tПредоставление и использование кредитной информации регулируется законом № ЗРУ-301 «Об обмене кре'. (2628) (SQLExecDirectW)\")\n",
      "Error inserting row 0: ('42000', \"[42000] [Microsoft][ODBC Driver 17 for SQL Server][SQL Server]String or binary data would be truncated in table 'RISKDB.BRONZE.katm_077_sysinfo', column 'notes'. Truncated value: '1.\\tПредоставление и использование кредитной информации регулируется законом № ЗРУ-301 «Об обмене кре'. (2628) (SQLExecDirectW)\")\n",
      "Error inserting row 0: ('42000', \"[42000] [Microsoft][ODBC Driver 17 for SQL Server][SQL Server]String or binary data would be truncated in table 'RISKDB.BRONZE.katm_077_sysinfo', column 'notes'. Truncated value: '1.\\tПредоставление и использование кредитной информации регулируется законом № ЗРУ-301 «Об обмене кре'. (2628) (SQLExecDirectW)\")\n",
      "Error inserting row 0: ('42000', \"[42000] [Microsoft][ODBC Driver 17 for SQL Server][SQL Server]String or binary data would be truncated in table 'RISKDB.BRONZE.katm_077_sysinfo', column 'notes'. Truncated value: '1.\\tПредоставление и использование кредитной информации регулируется законом № ЗРУ-301 «Об обмене кре'. (2628) (SQLExecDirectW)\")\n",
      "Error inserting row 0: ('42000', \"[42000] [Microsoft][ODBC Driver 17 for SQL Server][SQL Server]String or binary data would be truncated in table 'RISKDB.BRONZE.katm_077_sysinfo', column 'notes'. Truncated value: '1.\\tПредоставление и использование кредитной информации регулируется законом № ЗРУ-301 «Об обмене кре'. (2628) (SQLExecDirectW)\")\n",
      "Error inserting row 0: ('42000', \"[42000] [Microsoft][ODBC Driver 17 for SQL Server][SQL Server]String or binary data would be truncated in table 'RISKDB.BRONZE.katm_077_sysinfo', column 'notes'. Truncated value: '1.\\tПредоставление и использование кредитной информации регулируется законом № ЗРУ-301 «Об обмене кре'. (2628) (SQLExecDirectW)\")\n",
      "Error inserting row 0: ('42000', \"[42000] [Microsoft][ODBC Driver 17 for SQL Server][SQL Server]String or binary data would be truncated in table 'RISKDB.BRONZE.katm_077_sysinfo', column 'notes'. Truncated value: '1.\\tПредоставление и использование кредитной информации регулируется законом № ЗРУ-301 «Об обмене кре'. (2628) (SQLExecDirectW)\")\n",
      "Error inserting row 0: ('42000', \"[42000] [Microsoft][ODBC Driver 17 for SQL Server][SQL Server]String or binary data would be truncated in table 'RISKDB.BRONZE.katm_077_sysinfo', column 'notes'. Truncated value: '1.\\tПредоставление и использование кредитной информации регулируется законом № ЗРУ-301 «Об обмене кре'. (2628) (SQLExecDirectW)\")\n",
      "Error inserting row 0: ('42000', \"[42000] [Microsoft][ODBC Driver 17 for SQL Server][SQL Server]String or binary data would be truncated in table 'RISKDB.BRONZE.katm_077_sysinfo', column 'notes'. Truncated value: '1.\\tПредоставление и использование кредитной информации регулируется законом № ЗРУ-301 «Об обмене кре'. (2628) (SQLExecDirectW)\")\n",
      "Error inserting row 0: ('42000', \"[42000] [Microsoft][ODBC Driver 17 for SQL Server][SQL Server]String or binary data would be truncated in table 'RISKDB.BRONZE.katm_077_sysinfo', column 'notes'. Truncated value: '1.\\tПредоставление и использование кредитной информации регулируется законом № ЗРУ-301 «Об обмене кре'. (2628) (SQLExecDirectW)\")\n",
      "Error inserting row 0: ('42000', \"[42000] [Microsoft][ODBC Driver 17 for SQL Server][SQL Server]String or binary data would be truncated in table 'RISKDB.BRONZE.katm_077_sysinfo', column 'notes'. Truncated value: '1.\\tПредоставление и использование кредитной информации регулируется законом № ЗРУ-301 «Об обмене кре'. (2628) (SQLExecDirectW)\")\n",
      "Error inserting row 0: ('42000', \"[42000] [Microsoft][ODBC Driver 17 for SQL Server][SQL Server]String or binary data would be truncated in table 'RISKDB.BRONZE.katm_077_sysinfo', column 'notes'. Truncated value: '1.\\tПредоставление и использование кредитной информации регулируется законом № ЗРУ-301 «Об обмене кре'. (2628) (SQLExecDirectW)\")\n",
      "Error inserting row 0: ('42000', \"[42000] [Microsoft][ODBC Driver 17 for SQL Server][SQL Server]String or binary data would be truncated in table 'RISKDB.BRONZE.katm_077_sysinfo', column 'notes'. Truncated value: '1.\\tПредоставление и использование кредитной информации регулируется законом № ЗРУ-301 «Об обмене кре'. (2628) (SQLExecDirectW)\")\n",
      "Error inserting row 0: ('42000', \"[42000] [Microsoft][ODBC Driver 17 for SQL Server][SQL Server]String or binary data would be truncated in table 'RISKDB.BRONZE.katm_077_sysinfo', column 'notes'. Truncated value: '1.\\tПредоставление и использование кредитной информации регулируется законом № ЗРУ-301 «Об обмене кре'. (2628) (SQLExecDirectW)\")\n",
      "Error inserting row 0: ('42000', \"[42000] [Microsoft][ODBC Driver 17 for SQL Server][SQL Server]String or binary data would be truncated in table 'RISKDB.BRONZE.katm_077_sysinfo', column 'notes'. Truncated value: '1.\\tПредоставление и использование кредитной информации регулируется законом № ЗРУ-301 «Об обмене кре'. (2628) (SQLExecDirectW)\")\n",
      "Error inserting row 0: ('42000', \"[42000] [Microsoft][ODBC Driver 17 for SQL Server][SQL Server]String or binary data would be truncated in table 'RISKDB.BRONZE.katm_077_sysinfo', column 'notes'. Truncated value: '1.\\tПредоставление и использование кредитной информации регулируется законом № ЗРУ-301 «Об обмене кре'. (2628) (SQLExecDirectW)\")\n",
      "Error inserting row 0: ('42000', \"[42000] [Microsoft][ODBC Driver 17 for SQL Server][SQL Server]String or binary data would be truncated in table 'RISKDB.BRONZE.katm_077_sysinfo', column 'notes'. Truncated value: '1.\\tПредоставление и использование кредитной информации регулируется законом № ЗРУ-301 «Об обмене кре'. (2628) (SQLExecDirectW)\")\n",
      "Error inserting row 0: ('42000', \"[42000] [Microsoft][ODBC Driver 17 for SQL Server][SQL Server]String or binary data would be truncated in table 'RISKDB.BRONZE.katm_077_sysinfo', column 'notes'. Truncated value: '1.\\tПредоставление и использование кредитной информации регулируется законом № ЗРУ-301 «Об обмене кре'. (2628) (SQLExecDirectW)\")\n",
      "Error inserting row 0: ('42000', \"[42000] [Microsoft][ODBC Driver 17 for SQL Server][SQL Server]String or binary data would be truncated in table 'RISKDB.BRONZE.katm_077_sysinfo', column 'notes'. Truncated value: '1.\\tПредоставление и использование кредитной информации регулируется законом № ЗРУ-301 «Об обмене кре'. (2628) (SQLExecDirectW)\")\n",
      "Error inserting row 0: ('42000', \"[42000] [Microsoft][ODBC Driver 17 for SQL Server][SQL Server]String or binary data would be truncated in table 'RISKDB.BRONZE.katm_077_sysinfo', column 'notes'. Truncated value: '1.\\tПредоставление и использование кредитной информации регулируется законом № ЗРУ-301 «Об обмене кре'. (2628) (SQLExecDirectW)\")\n",
      "Error inserting row 0: ('42000', \"[42000] [Microsoft][ODBC Driver 17 for SQL Server][SQL Server]String or binary data would be truncated in table 'RISKDB.BRONZE.katm_077_sysinfo', column 'notes'. Truncated value: '1.\\tПредоставление и использование кредитной информации регулируется законом № ЗРУ-301 «Об обмене кре'. (2628) (SQLExecDirectW)\")\n",
      "Error inserting row 0: ('42000', \"[42000] [Microsoft][ODBC Driver 17 for SQL Server][SQL Server]String or binary data would be truncated in table 'RISKDB.BRONZE.katm_077_sysinfo', column 'notes'. Truncated value: '1.\\tПредоставление и использование кредитной информации регулируется законом № ЗРУ-301 «Об обмене кре'. (2628) (SQLExecDirectW)\")\n",
      "Error inserting row 0: ('42000', \"[42000] [Microsoft][ODBC Driver 17 for SQL Server][SQL Server]String or binary data would be truncated in table 'RISKDB.BRONZE.katm_077_sysinfo', column 'notes'. Truncated value: '1.\\tПредоставление и использование кредитной информации регулируется законом № ЗРУ-301 «Об обмене кре'. (2628) (SQLExecDirectW)\")\n",
      "Error inserting row 0: ('42000', \"[42000] [Microsoft][ODBC Driver 17 for SQL Server][SQL Server]String or binary data would be truncated in table 'RISKDB.BRONZE.katm_077_sysinfo', column 'notes'. Truncated value: '1.\\tПредоставление и использование кредитной информации регулируется законом № ЗРУ-301 «Об обмене кре'. (2628) (SQLExecDirectW)\")\n",
      "Error inserting row 0: ('42000', \"[42000] [Microsoft][ODBC Driver 17 for SQL Server][SQL Server]String or binary data would be truncated in table 'RISKDB.BRONZE.katm_077_sysinfo', column 'notes'. Truncated value: '1.\\tПредоставление и использование кредитной информации регулируется законом № ЗРУ-301 «Об обмене кре'. (2628) (SQLExecDirectW)\")\n",
      "Error inserting row 0: ('42000', \"[42000] [Microsoft][ODBC Driver 17 for SQL Server][SQL Server]String or binary data would be truncated in table 'RISKDB.BRONZE.katm_077_sysinfo', column 'notes'. Truncated value: '1.\\tПредоставление и использование кредитной информации регулируется законом № ЗРУ-301 «Об обмене кре'. (2628) (SQLExecDirectW)\")\n",
      "Error inserting row 0: ('42000', \"[42000] [Microsoft][ODBC Driver 17 for SQL Server][SQL Server]String or binary data would be truncated in table 'RISKDB.BRONZE.katm_077_sysinfo', column 'notes'. Truncated value: '1.\\tПредоставление и использование кредитной информации регулируется законом № ЗРУ-301 «Об обмене кре'. (2628) (SQLExecDirectW)\")\n",
      "Error inserting row 0: ('42000', \"[42000] [Microsoft][ODBC Driver 17 for SQL Server][SQL Server]String or binary data would be truncated in table 'RISKDB.BRONZE.katm_077_sysinfo', column 'notes'. Truncated value: '1.\\tПредоставление и использование кредитной информации регулируется законом № ЗРУ-301 «Об обмене кре'. (2628) (SQLExecDirectW)\")\n"
     ]
    }
   ],
   "source": [
    "for doc in docs:\n",
    "    rows = []\n",
    "    _id = str(doc.get('_id')) \n",
    "    number = doc.get('number')\n",
    "    fields = doc.get('data', {}).get('katm_077', {}).get('return', {}).get('data', {}).get('sysinfo', {})\n",
    "    if isinstance(fields, dict):\n",
    "        fields = [fields]\n",
    "    elif fields is None:\n",
    "        fields = []\n",
    "    for field in fields:\n",
    "        row = {'_id': _id, 'number': number, **field}\n",
    "        rows.append(row)\n",
    "\n",
    "    df = pd.DataFrame(rows)\n",
    "    final_df = map_dff_to_my_columns(df, columns)\n",
    "    insert_into_mssql_2(final_df, write_to_table)"
   ]
  }
 ],
 "metadata": {
  "kernelspec": {
   "display_name": "venv",
   "language": "python",
   "name": "python3"
  },
  "language_info": {
   "codemirror_mode": {
    "name": "ipython",
    "version": 3
   },
   "file_extension": ".py",
   "mimetype": "text/x-python",
   "name": "python",
   "nbconvert_exporter": "python",
   "pygments_lexer": "ipython3",
   "version": "3.13.0"
  }
 },
 "nbformat": 4,
 "nbformat_minor": 2
}
