{
 "cells": [
  {
   "cell_type": "code",
   "execution_count": 379,
   "metadata": {},
   "outputs": [],
   "source": [
    "from datetime import datetime, timedelta"
   ]
  },
  {
   "cell_type": "code",
   "execution_count": 381,
   "metadata": {},
   "outputs": [],
   "source": [
    "def get_date_range_by_offset(offset):\n",
    "    today = datetime.today().replace(day=1)  # Start from the 1st of the current month\n",
    "    start_date = (today - timedelta(days=30 * offset)).replace(day=1)\n",
    "    next_month = (start_date + timedelta(days=31)).replace(day=1)\n",
    "    end_date = (next_month - timedelta(days=1))\n",
    "    return start_date.strftime('%d-%m-%Y'), end_date.strftime('%d-%m-%Y')\n"
   ]
  },
  {
   "cell_type": "code",
   "execution_count": 384,
   "metadata": {},
   "outputs": [
    {
     "name": "stdout",
     "output_type": "stream",
     "text": [
      "('01-12-2024', '31-12-2024')\n",
      "('01-11-2024', '30-11-2024')\n"
     ]
    }
   ],
   "source": [
    "for month in range(2):\n",
    "    print(get_date_range_by_offset(month))"
   ]
  }
 ],
 "metadata": {
  "language_info": {
   "name": "python"
  }
 },
 "nbformat": 4,
 "nbformat_minor": 2
}
