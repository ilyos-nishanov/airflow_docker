{
 "cells": [
  {
   "cell_type": "code",
   "execution_count": 2,
   "metadata": {},
   "outputs": [],
   "source": [
    "from _121002_utils import generate_date_ranges\n"
   ]
  },
  {
   "cell_type": "code",
   "execution_count": 3,
   "metadata": {},
   "outputs": [
    {
     "data": {
      "text/plain": [
       "[('2023-01-01', '2023-01-31'),\n",
       " ('2023-02-01', '2023-02-28'),\n",
       " ('2023-03-01', '2023-03-31'),\n",
       " ('2023-04-01', '2023-04-30'),\n",
       " ('2023-05-01', '2023-05-31'),\n",
       " ('2023-06-01', '2023-06-30'),\n",
       " ('2023-07-01', '2023-07-31'),\n",
       " ('2023-08-01', '2023-08-31'),\n",
       " ('2023-09-01', '2023-09-30'),\n",
       " ('2023-10-01', '2023-10-31'),\n",
       " ('2023-11-01', '2023-11-30'),\n",
       " ('2023-12-01', '2023-12-31'),\n",
       " ('2024-01-01', '2024-01-31'),\n",
       " ('2024-02-01', '2024-02-29'),\n",
       " ('2024-03-01', '2024-03-31'),\n",
       " ('2024-04-01', '2024-04-30'),\n",
       " ('2024-05-01', '2024-05-31'),\n",
       " ('2024-06-01', '2024-06-30'),\n",
       " ('2024-07-01', '2024-07-31'),\n",
       " ('2024-08-01', '2024-08-31'),\n",
       " ('2024-09-01', '2024-09-30'),\n",
       " ('2024-10-01', '2024-10-31'),\n",
       " ('2024-11-01', '2024-11-30'),\n",
       " ('2024-12-01', '2024-12-31'),\n",
       " ('2025-01-01', '2025-01-31'),\n",
       " ('2025-02-01', '2025-02-13')]"
      ]
     },
     "execution_count": 3,
     "metadata": {},
     "output_type": "execute_result"
    }
   ],
   "source": [
    "my_ranges = generate_date_ranges(2023,2025, 'month')\n",
    "my_ranges"
   ]
  }
 ],
 "metadata": {
  "kernelspec": {
   "display_name": "venv",
   "language": "python",
   "name": "python3"
  },
  "language_info": {
   "codemirror_mode": {
    "name": "ipython",
    "version": 3
   },
   "file_extension": ".py",
   "mimetype": "text/x-python",
   "name": "python",
   "nbconvert_exporter": "python",
   "pygments_lexer": "ipython3",
   "version": "3.13.0"
  }
 },
 "nbformat": 4,
 "nbformat_minor": 2
}
