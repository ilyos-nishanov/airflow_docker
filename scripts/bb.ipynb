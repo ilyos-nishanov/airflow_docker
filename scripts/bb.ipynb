{
 "cells": [
  {
   "cell_type": "code",
   "execution_count": 1,
   "metadata": {},
   "outputs": [],
   "source": [
    "import json\n",
    "import pandas as pd\n",
    "from time import time\n",
    "from connections import get_mongo_client\n",
    "from my_utils import insert_into_mssql, load_my_columns, \\\n",
    "                        get_numbers,map_dff_to_my_columns, max_number_find\n"
   ]
  },
  {
   "cell_type": "code",
   "execution_count": 2,
   "metadata": {},
   "outputs": [],
   "source": [
    "start = time()\n",
    "write_to_table='bronze.katm_077_client'\n",
    "columns_file = 'katm_077_client_fields.txt'\n",
    "columns = load_my_columns(columns_file)\n",
    "# max_num = max_number_find(write_to_table)"
   ]
  },
  {
   "cell_type": "code",
   "execution_count": 3,
   "metadata": {},
   "outputs": [
    {
     "data": {
      "text/plain": [
       "['_id',\n",
       " 'number',\n",
       " 'pinfl',\n",
       " 'live_address',\n",
       " 'registration_district',\n",
       " 'birth_date',\n",
       " 'inn',\n",
       " 'client_type',\n",
       " 'founders',\n",
       " 'oked',\n",
       " 'email_change',\n",
       " 'katm_sir',\n",
       " 'juridical status',\n",
       " 'name',\n",
       " 'live_address_change',\n",
       " 'registration_address',\n",
       " 'email',\n",
       " 'registration_address_change']"
      ]
     },
     "execution_count": 3,
     "metadata": {},
     "output_type": "execute_result"
    }
   ],
   "source": [
    "columns"
   ]
  },
  {
   "cell_type": "code",
   "execution_count": 4,
   "metadata": {},
   "outputs": [],
   "source": [
    "client = client = get_mongo_client()\n",
    "db = client['task']\n",
    "task_collection = db['task']\n",
    "query = {\n",
    "    'data.katm_077.return.data.client': {'$exists': True}\n",
    "    ,'number': {'$eq': 7090166}\n",
    "    # ,'number': {'$gt': max_num}\n",
    "    # ,'number': {'$gt': 5000000, '$lt': 5001000}\n",
    "    # ,'number': {'$in': numbers}\n",
    "    \n",
    "}\n",
    "projection = {\n",
    "    'number': 1,\n",
    "    'data.katm_077.return.data.client': 1\n",
    "}"
   ]
  },
  {
   "cell_type": "code",
   "execution_count": 5,
   "metadata": {},
   "outputs": [],
   "source": [
    "docs = task_collection.find(query, projection)"
   ]
  },
  {
   "cell_type": "code",
   "execution_count": 5,
   "metadata": {},
   "outputs": [],
   "source": [
    "doc = task_collection.find_one(query, projection)"
   ]
  },
  {
   "cell_type": "code",
   "execution_count": 6,
   "metadata": {},
   "outputs": [
    {
     "data": {
      "text/plain": [
       "{'_id': ObjectId('670a33cc588a4631b21a4006'),\n",
       " 'number': 7090166,\n",
       " 'data': {'katm_077': {'return': {'data': {'dynamics_of_scoring_ball': {'periods': [{'period': '11.2023',\n",
       "        'score_point': '232',\n",
       "        'score_date': '2023-11-03 14:54'},\n",
       "       {'period': '12.2023',\n",
       "        'score_point': '241',\n",
       "        'score_date': '2023-12-08 13:58'},\n",
       "       {'period': '01.2024',\n",
       "        'score_point': '246',\n",
       "        'score_date': '2024-01-07 14:08'},\n",
       "       {'period': '02.2024',\n",
       "        'score_point': '239',\n",
       "        'score_date': '2024-02-07 19:32'},\n",
       "       {'period': '03.2024',\n",
       "        'score_point': '226',\n",
       "        'score_date': '2024-03-01 16:20'},\n",
       "       {'period': '04.2024',\n",
       "        'score_point': '246',\n",
       "        'score_date': '2024-04-03 23:45'},\n",
       "       {'period': '07.2024',\n",
       "        'score_point': '251',\n",
       "        'score_date': '2024-07-12 12:04'},\n",
       "       {'period': '09.2024',\n",
       "        'score_point': '167',\n",
       "        'score_date': '2024-09-22 23:19'},\n",
       "       {'period': '10.2024',\n",
       "        'score_point': '258',\n",
       "        'score_date': '2024-10-03 00:39'}]}}}}}}"
      ]
     },
     "execution_count": 6,
     "metadata": {},
     "output_type": "execute_result"
    }
   ],
   "source": [
    "doc"
   ]
  },
  {
   "cell_type": "code",
   "execution_count": 6,
   "metadata": {},
   "outputs": [
    {
     "name": "stdout",
     "output_type": "stream",
     "text": [
      "script took 120.79887795448303 seconds\n"
     ]
    }
   ],
   "source": [
    "for doc in docs:\n",
    "    rows = []\n",
    "    _id = str(doc.get('_id')) \n",
    "    number = doc.get('number')\n",
    "    fields = doc.get('data', {}).get('katm_077', {}).get('return', {}).get('data', {}).get('client', {})\n",
    "    if isinstance(fields, dict):\n",
    "        fields = [fields]\n",
    "    elif fields is None:\n",
    "        fields = []\n",
    "    for field in fields:\n",
    "        row = {'_id': _id, 'number': number, **field}\n",
    "        rows.append(row)\n",
    "\n",
    "    df = pd.DataFrame(rows)\n",
    "    final_df = map_dff_to_my_columns(df, columns)\n",
    "    insert_into_mssql(final_df, write_to_table)\n",
    "end = time()\n",
    "print(f\"script took {end-start} seconds\")"
   ]
  },
  {
   "cell_type": "code",
   "execution_count": 27,
   "metadata": {},
   "outputs": [
    {
     "data": {
      "text/plain": [
       "7090166"
      ]
     },
     "execution_count": 27,
     "metadata": {},
     "output_type": "execute_result"
    }
   ],
   "source": [
    "number"
   ]
  }
 ],
 "metadata": {
  "kernelspec": {
   "display_name": "venv",
   "language": "python",
   "name": "python3"
  },
  "language_info": {
   "codemirror_mode": {
    "name": "ipython",
    "version": 3
   },
   "file_extension": ".py",
   "mimetype": "text/x-python",
   "name": "python",
   "nbconvert_exporter": "python",
   "pygments_lexer": "ipython3",
   "version": "3.13.0"
  }
 },
 "nbformat": 4,
 "nbformat_minor": 2
}
